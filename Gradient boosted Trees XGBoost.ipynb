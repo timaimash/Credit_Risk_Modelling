{
 "cells": [
  {
   "cell_type": "markdown",
   "metadata": {},
   "source": [
    "## 3. Gradient Boosted Trees XGBoost"
   ]
  },
  {
   "cell_type": "markdown",
   "metadata": {},
   "source": [
    "1. Trees for defaults\n",
    "\n",
    "You will now train a gradient boosted tree model on the credit data, and see a sample of some of the predictions. Do you remember when you first looked at the predictions of the logistic regression model? They didn't look good. Do you think this model be different?"
   ]
  },
  {
   "cell_type": "code",
   "execution_count": 2,
   "metadata": {},
   "outputs": [],
   "source": [
    "# Import pandas as pd\n",
    "import pandas as pd\n",
    "import matplotlib as mtlb\n",
    "import matplotlib.pyplot as plt\n",
    "import numpy as np\n",
    "from sklearn.model_selection import train_test_split\n",
    "import sklearn as skl \n",
    "from sklearn import metrics\n",
    "import xgboost as xgb"
   ]
  },
  {
   "cell_type": "code",
   "execution_count": 3,
   "metadata": {},
   "outputs": [],
   "source": [
    "# Read in the csv file\n",
    "clean_loan_data = pd.read_csv('clean_loan_data.csv')"
   ]
  },
  {
   "cell_type": "code",
   "execution_count": 4,
   "metadata": {},
   "outputs": [],
   "source": [
    "# Create two data sets for numeric and non-numeric data\n",
    "cred_num = clean_loan_data.select_dtypes(exclude=['object'])\n",
    "cred_str = clean_loan_data.select_dtypes(include=['object'])\n",
    "\n",
    "# One-hot encode the non-numeric columns\n",
    "cred_str_onehot = pd.get_dummies(cred_str)\n",
    "\n",
    "# Union the one-hot encoded columns to the numeric ones\n",
    "cr_loan_prep = pd.concat([cred_num, cred_str_onehot], axis=1)"
   ]
  },
  {
   "cell_type": "code",
   "execution_count": 5,
   "metadata": {},
   "outputs": [],
   "source": [
    "# Create the X and y data sets\n",
    "X = cr_loan_prep.drop(['loan_status'], axis=1)\n",
    "y = cr_loan_prep[['loan_status']]\n",
    "\n",
    "# Use test_train_split to create the training and test sets\n",
    "X_train, X_test, y_train, y_test = train_test_split(X, y, test_size=.4, random_state=123)"
   ]
  },
  {
   "cell_type": "code",
   "execution_count": 6,
   "metadata": {},
   "outputs": [],
   "source": [
    "clf_gbt = xgb.XGBClassifier().fit(X_train, np.ravel(y_train))\n",
    "\n",
    "# Predict with a model\n",
    "gbt_preds = clf_gbt.predict_proba(X_test)\n",
    "\n",
    "# Create dataframes of first five predictions, and first five true labels\n",
    "preds_df = pd.DataFrame(gbt_preds[:,1], columns = ['prob_default'])\n",
    "true_df = y_test\n",
    "\n",
    "# Concatenate and print the two data frames for comparison\n",
    "#print(pd.concat([true_df.reset_index(drop = True), preds_df], axis = 1))"
   ]
  },
  {
   "cell_type": "markdown",
   "metadata": {},
   "source": [
    "2. Gradient boosted portfolio performance\n",
    "\n",
    "At this point you've looked at predicting probability of default using both a LogisticRegression() and XGBClassifier(). You've looked at some scoring and have seen samples of the predictions, but what is the overall affect on portfolio performance? Try using expected loss as a scenario to express the importance of testing different models.\n",
    "\n",
    "A data frame called portfolio has been created to combine the probabilities of default for both models, the loss given default (assume LGD 20% for now), and the loan_amnt which will be assumed to be the exposure at default."
   ]
  },
  {
   "cell_type": "code",
   "execution_count": 7,
   "metadata": {},
   "outputs": [
    {
     "name": "stdout",
     "output_type": "stream",
     "text": [
      "11784\n",
      "11784\n"
     ]
    }
   ],
   "source": [
    "lr_prob_default = pd.read_csv('logreg_prob_default.csv')\n",
    "print(len(lr_prob_default))\n",
    "print(len(preds_df))"
   ]
  },
  {
   "cell_type": "code",
   "execution_count": 8,
   "metadata": {},
   "outputs": [
    {
     "name": "stdout",
     "output_type": "stream",
     "text": [
      "   prob_default  lr_prob_default  loan_amnt  lgd\n",
      "0      0.990942         0.445779       1000  0.2\n",
      "1      0.983987         0.223447       5500  0.2\n"
     ]
    }
   ],
   "source": [
    "portfolio=pd.DataFrame()\n",
    "#portfolio['gbt_prob_default']=preds_df\n",
    "portfolio=preds_df\n",
    "portfolio['lr_prob_default']=lr_prob_default\n",
    "portfolio['loan_amnt']=cr_loan_prep[['loan_amnt']]\n",
    "portfolio['lgd']=0.2\n",
    "print(portfolio.head(2))"
   ]
  },
  {
   "cell_type": "code",
   "execution_count": 9,
   "metadata": {},
   "outputs": [
    {
     "name": "stdout",
     "output_type": "stream",
     "text": [
      "   prob_default  lr_prob_default  loan_amnt  lgd\n",
      "0      0.990942         0.445779       1000  0.2\n",
      "1      0.983987         0.223447       5500  0.2\n",
      "2      0.000807         0.288558      35000  0.2\n",
      "3      0.001239         0.169358      35000  0.2\n",
      "4      0.084892         0.114182       2500  0.2\n",
      "LR expected loss:  4752523.770084315\n",
      "GBT expected loss:  4407645.7586168\n"
     ]
    }
   ],
   "source": [
    "print(portfolio.head(5))\n",
    "\n",
    "# Create expected loss columns for each model using the formula\n",
    "portfolio['gbt_expected_loss'] = portfolio['prob_default'] * portfolio['lgd'] * portfolio['loan_amnt']\n",
    "portfolio['lr_expected_loss'] = portfolio['lr_prob_default'] * portfolio['lgd'] * portfolio['loan_amnt']\n",
    "\n",
    "# Print the sum of the expected loss for lr\n",
    "print('LR expected loss: ', np.sum(portfolio['lr_expected_loss']))\n",
    "\n",
    "# Print the sum of the expected loss for gbt\n",
    "print('GBT expected loss: ', np.sum(portfolio['gbt_expected_loss']))"
   ]
  },
  {
   "cell_type": "markdown",
   "metadata": {},
   "source": [
    "3. Assessing gradient boosted trees\n",
    "\n",
    "So you've now used XGBClassifier() models to predict probability of default. These models can also use the .predict() method for creating predictions that give the actual class for loan_status.\n",
    "\n",
    "You should check the model's initial performance by looking at the metrics from the classification_report(). Keep in mind that you have not set thresholds for these models yet."
   ]
  },
  {
   "cell_type": "code",
   "execution_count": 10,
   "metadata": {},
   "outputs": [
    {
     "name": "stdout",
     "output_type": "stream",
     "text": [
      "[1 1 0 ... 0 0 0]\n",
      "              precision    recall  f1-score   support\n",
      "\n",
      " Non-Default       0.93      0.99      0.96      9198\n",
      "     Default       0.94      0.74      0.83      2586\n",
      "\n",
      "    accuracy                           0.93     11784\n",
      "   macro avg       0.94      0.86      0.89     11784\n",
      "weighted avg       0.93      0.93      0.93     11784\n",
      "\n"
     ]
    }
   ],
   "source": [
    "# Predict the labels for loan status\n",
    "gbt_preds = clf_gbt.predict(X_test)\n",
    "\n",
    "# Check the values created by the predict method\n",
    "print(gbt_preds)\n",
    "\n",
    "# Print the classification report of the model\n",
    "target_names = ['Non-Default', 'Default']\n",
    "print(metrics.classification_report(y_test, gbt_preds, target_names=target_names))"
   ]
  },
  {
   "cell_type": "markdown",
   "metadata": {},
   "source": [
    "4. Column importance and default prediction\n",
    "\n",
    "When using multiple training sets with many different groups of columns, it's important to keep and eye on which columns matter and which do not. It can be expensive or time-consuming to maintain a set of columns even though they might not have any impact on loan_status.\n",
    "\n",
    "The X data for this exercise was created with the following code:\n",
    "\n",
    "X = cr_loan_prep[['person_income','loan_int_rate',\n",
    "                  'loan_percent_income','loan_amnt',\n",
    "                  'person_home_ownership_MORTGAGE','loan_grade_F']]\n",
    "Train an XGBClassifier() model on this data, and check the column importance to see how each one performs to predict loan_status."
   ]
  },
  {
   "cell_type": "code",
   "execution_count": 11,
   "metadata": {},
   "outputs": [],
   "source": [
    "X = cr_loan_prep[['person_income','loan_int_rate', 'loan_percent_income','loan_amnt', 'person_home_ownership_MORTGAGE','loan_grade_F']]\n",
    "y = cr_loan_prep[['loan_status']]\n",
    "\n",
    "# Use test_train_split to create the training and test sets\n",
    "X_train, X_test, y_train, y_test = train_test_split(X, y, test_size=.4, random_state=123)"
   ]
  },
  {
   "cell_type": "code",
   "execution_count": 12,
   "metadata": {},
   "outputs": [
    {
     "name": "stdout",
     "output_type": "stream",
     "text": [
      "{'loan_percent_income': 515, 'loan_int_rate': 1001, 'person_income': 1299, 'loan_amnt': 519, 'person_home_ownership_MORTGAGE': 116, 'loan_grade_F': 9}\n"
     ]
    }
   ],
   "source": [
    "# Create and train the model on the training data\n",
    "clf_gbt = xgb.XGBClassifier().fit(X_train,np.ravel(y_train))\n",
    "\n",
    "# Print the column importances from the model\n",
    "print(clf_gbt.get_booster().get_score(importance_type = 'weight'))"
   ]
  },
  {
   "cell_type": "markdown",
   "metadata": {},
   "source": [
    "5. Visualizing column importance\n",
    "\n",
    "When the model is trained on different sets of columns it changes the performance, but does the importance for the same column change depending on which group it's in?\n",
    "\n",
    "The data sets X2 and X3 have been created with the following code:\n",
    "\n",
    "X2 = cr_loan_prep[['loan_int_rate','person_emp_length']] <br>\n",
    "X3 = cr_loan_prep[['person_income','loan_int_rate','loan_percent_income']] <br>\n",
    "Understanding how different columns are used to arrive at a loan_status prediction is very important for model interpretability."
   ]
  },
  {
   "cell_type": "code",
   "execution_count": 13,
   "metadata": {},
   "outputs": [],
   "source": [
    "X2 = cr_loan_prep[['loan_int_rate','person_emp_length']]\n",
    "X3 = cr_loan_prep[['person_income','loan_int_rate','loan_percent_income']]\n",
    "\n",
    "# Use test_train_split to create the training and test sets\n",
    "X2_train, X2_test, y_train, y_test = train_test_split(X2, y, test_size=.4, random_state=123)\n",
    "\n",
    "# Use test_train_split to create the training and test sets\n",
    "X3_train, X3_test, y_train, y_test = train_test_split(X3, y, test_size=.4, random_state=123)\n"
   ]
  },
  {
   "cell_type": "code",
   "execution_count": 14,
   "metadata": {},
   "outputs": [
    {
     "data": {
      "image/png": "[encoded data removed]",
      "text/plain": [
       "<Figure size 432x288 with 1 Axes>"
      ]
     },
     "metadata": {
      "needs_background": "light"
     },
     "output_type": "display_data"
    }
   ],
   "source": [
    "# Train a model on the X data with 2 columns\n",
    "clf_gbt2 = xgb.XGBClassifier().fit(X2_train,np.ravel(y_train))\n",
    "\n",
    "# Plot the column importance for this model\n",
    "xgb.plot_importance(clf_gbt2, importance_type = 'weight')\n",
    "plt.show()"
   ]
  },
  {
   "cell_type": "code",
   "execution_count": 15,
   "metadata": {},
   "outputs": [
    {
     "data": {
      "image/png": "[encoded data removed]",
      "text/plain": [
       "<Figure size 432x288 with 1 Axes>"
      ]
     },
     "metadata": {
      "needs_background": "light"
     },
     "output_type": "display_data"
    }
   ],
   "source": [
    "# Train a model on the X data with 3 columns\n",
    "clf_gbt3 = xgb.XGBClassifier().fit(X3_train,np.ravel(y_train))\n",
    "\n",
    "# Plot the column importance for this model\n",
    "xgb.plot_importance(clf_gbt3, importance_type = 'weight')\n",
    "plt.show()"
   ]
  },
  {
   "cell_type": "markdown",
   "metadata": {},
   "source": [
    "6. Column selection and model performance\n",
    "\n",
    "Creating the training set from different combinations of columns affects the model and the importance values of the columns. Does a different selection of columns also affect the F-1 scores, the combination of the precision and recall, of the model? You can answer this question by training two different models on two different sets of columns, and checking the performance.\n",
    "\n",
    "Inaccurately predicting defaults as non-default can result in unexpected losses if the probability of default for these loans was very low. You can use the F-1 score for defaults to see how the models will accurately predict the defaults.\n",
    "\n",
    "The credit data, cr_loan_prep and the two training column sets X and X2 have been loaded in the workspace. The models gbt and gbt2 have already been trained."
   ]
  },
  {
   "cell_type": "code",
   "execution_count": 17,
   "metadata": {},
   "outputs": [
    {
     "name": "stdout",
     "output_type": "stream",
     "text": [
      "              precision    recall  f1-score   support\n",
      "\n",
      " Non-Default       0.91      0.95      0.93      9198\n",
      "     Default       0.81      0.66      0.73      2586\n",
      "\n",
      "    accuracy                           0.89     11784\n",
      "   macro avg       0.86      0.81      0.83     11784\n",
      "weighted avg       0.89      0.89      0.89     11784\n",
      "\n",
      "              precision    recall  f1-score   support\n",
      "\n",
      " Non-Default       0.83      0.96      0.89      9198\n",
      "     Default       0.67      0.29      0.40      2586\n",
      "\n",
      "    accuracy                           0.81     11784\n",
      "   macro avg       0.75      0.62      0.65     11784\n",
      "weighted avg       0.79      0.81      0.78     11784\n",
      "\n"
     ]
    }
   ],
   "source": [
    "# Predict the loan_status using each model\n",
    "gbt_preds = clf_gbt.predict(X_test)\n",
    "gbt2_preds = clf_gbt2.predict(X2_test)\n",
    "\n",
    "# Print the classification report of the first model\n",
    "target_names = ['Non-Default', 'Default']\n",
    "print(metrics.classification_report(y_test, gbt_preds, target_names=target_names))\n",
    "\n",
    "# Print the classification report of the second model\n",
    "print(metrics.classification_report(y_test, gbt2_preds, target_names=target_names))"
   ]
  },
  {
   "cell_type": "markdown",
   "metadata": {},
   "source": [
    "7. Cross validating credit models\n",
    "\n",
    "Credit loans and their data change over time, and it won't always look like what's been loaded into the current test sets. So, you can use cross-validation to try several smaller training and test sets which are derived from the original X_train and y_train.\n",
    "\n",
    "Use the XGBoost function cv() to perform cross-validation. You will need to set up all the parameters for cv() to use on the test data."
   ]
  },
  {
   "cell_type": "code",
   "execution_count": 16,
   "metadata": {},
   "outputs": [
    {
     "name": "stdout",
     "output_type": "stream",
     "text": [
      "   train-auc-mean  train-auc-std  test-auc-mean  test-auc-std\n",
      "0        0.884537       0.001848       0.877218      0.005511\n",
      "1        0.892087       0.002086       0.883282      0.007081\n",
      "2        0.896208       0.002214       0.885650      0.006140\n",
      "3        0.898414       0.002245       0.886062      0.006838\n",
      "4        0.900582       0.002823       0.887498      0.006857\n"
     ]
    }
   ],
   "source": [
    "# Set the values for number of folds and stopping iterations\n",
    "n_folds = 5\n",
    "early_stopping = 10\n",
    "params={'objective': 'binary:logistic', 'seed': 123, 'eval_metric': 'auc'}\n",
    "\n",
    "# Create the DTrain matrix for XGBoost\n",
    "DTrain = xgb.DMatrix(X_train, label = y_train)\n",
    "\n",
    "# Create the data frame of cross validations\n",
    "cv_df = xgb.cv(params, DTrain, num_boost_round = 5, nfold=n_folds,\n",
    "            early_stopping_rounds=early_stopping)\n",
    "\n",
    "# Print the cross validations data frame\n",
    "print(cv_df)"
   ]
  },
  {
   "cell_type": "markdown",
   "metadata": {},
   "source": [
    "8. Limits to cross-validation testing\n",
    "\n",
    "You can specify very large numbers for both nfold and num_boost_round if you want to perform an extreme amount of cross-validation. The data frame cv_results_big has already been loaded in the workspace and was created with the following code:\n",
    "\n",
    "cv = xgb.cv(params, DTrain, num_boost_round = 600, nfold=10,\n",
    "            shuffle = True)\n",
    "Here, cv() performed 600 iterations of cross-validation! The parameter shuffle tells the function to shuffle the records each time.\n",
    "\n",
    "Have a look at this data to see what the AUC are, and check to see if they reach 1.0 using cross validation. You should also plot the test AUC score to see the progression."
   ]
  },
  {
   "cell_type": "code",
   "execution_count": 18,
   "metadata": {},
   "outputs": [],
   "source": [
    "# Set the values for number of folds and stopping iterations\n",
    "n_folds = 10\n",
    "\n",
    "params={'objective': 'binary:logistic', 'seed': 123, 'eval_metric': 'auc'}\n",
    "\n",
    "# Create the DTrain matrix for XGBoost\n",
    "DTrain = xgb.DMatrix(X_train, label = y_train)\n",
    "\n",
    "# Create the data frame of cross validations\n",
    "cv_results_big = xgb.cv(params, DTrain, num_boost_round = 50, nfold=n_folds,\n",
    "           shuffle = True)"
   ]
  },
  {
   "cell_type": "code",
   "execution_count": 19,
   "metadata": {},
   "outputs": [
    {
     "name": "stdout",
     "output_type": "stream",
     "text": [
      "   train-auc-mean  train-auc-std  test-auc-mean  test-auc-std\n",
      "0        0.884096       0.001131       0.875651      0.009191\n",
      "1        0.891861       0.001500       0.883153      0.008852\n",
      "2        0.896230       0.001230       0.885922      0.009741\n",
      "3        0.898016       0.001152       0.887407      0.009579\n",
      "4        0.900260       0.001156       0.888567      0.009332\n",
      "0.9\n"
     ]
    },
    {
     "data": {
      "image/png": "[encoded data removed]",
      "text/plain": [
       "<Figure size 432x288 with 1 Axes>"
      ]
     },
     "metadata": {
      "needs_background": "light"
     },
     "output_type": "display_data"
    }
   ],
   "source": [
    "# Print the first five rows of the CV results data frame\n",
    "print(cv_results_big.head(5))\n",
    "\n",
    "# Calculate the mean of the test AUC scores\n",
    "print(np.mean(cv_results_big['test-auc-mean']).round(2))\n",
    "\n",
    "# Plot the test AUC scores for each iteration\n",
    "plt.plot(cv_results_big['test-auc-mean'])\n",
    "plt.title('Test AUC Score Over 50 Iterations')\n",
    "plt.xlabel('Iteration Number')\n",
    "plt.ylabel('Test AUC Score')\n",
    "plt.show()"
   ]
  },
  {
   "cell_type": "markdown",
   "metadata": {},
   "source": [
    "9. Cross-validation scoring\n",
    "\n",
    "Now, you should use cross-validation scoring with cross_val_score() to check the overall performance.\n",
    "\n",
    "This is exercise presents an excellent opportunity to test out the use of the hyperparameters learning_rate and max_depth. Remember, hyperparameters are like settings which can help create optimum performance.\n",
    "\n",
    "The data sets cr_loan_prep, X_train, and y_train have already been loaded in the workspace."
   ]
  },
  {
   "cell_type": "code",
   "execution_count": 24,
   "metadata": {},
   "outputs": [
    {
     "name": "stdout",
     "output_type": "stream",
     "text": [
      "[0.88914027 0.89069925 0.89112721 0.870756  ]\n",
      "Average accuracy: 0.89 (+/- 0.02)\n"
     ]
    }
   ],
   "source": [
    "# Create a gradient boosted tree model using two hyperparameters\n",
    "gbt = xgb.XGBClassifier(learning_rate= 0.1, max_depth= 7)\n",
    "\n",
    "# Calculate the cross validation scores for 4 folds\n",
    "cv_scores = skl.model_selection.cross_val_score(gbt, X_train, np.ravel(y_train), cv = 4)\n",
    "\n",
    "# Print the cross validation scores\n",
    "print(cv_scores)\n",
    "\n",
    "# Print the average accuracy and standard deviation of the scores\n",
    "print(\"Average accuracy: %0.2f (+/- %0.2f)\" % (cv_scores.mean(),\n",
    "                                              cv_scores.std() * 2))"
   ]
  },
  {
   "cell_type": "markdown",
   "metadata": {},
   "source": [
    "10. Undersampling training data\n",
    "\n",
    "It's time to undersample the training set yourself with a few lines of code from Pandas. Once the undersampling is complete, you can check the value counts for loan_status to verify the results.\n",
    "\n",
    "X_y_train, count_nondefault, and count_default are already loaded in the workspace. They have been created using the following code:\n",
    "\n",
    "X_y_train = pd.concat([X_train.reset_index(drop = True),\n",
    "                       y_train.reset_index(drop = True)], axis = 1)\n",
    "count_nondefault, count_default = X_y_train['loan_status'].value_counts()\n"
   ]
  },
  {
   "cell_type": "code",
   "execution_count": 23,
   "metadata": {},
   "outputs": [],
   "source": [
    "# Create the X and y data sets\n",
    "X = cr_loan_prep.drop(['loan_status'], axis=1)\n",
    "y = cr_loan_prep[['loan_status']]\n",
    "\n",
    "# Use test_train_split to create the training and test sets\n",
    "X_train, X_test, y_train, y_test = train_test_split(X, y, test_size=.4, random_state=123)\n"
   ]
  },
  {
   "cell_type": "code",
   "execution_count": 17,
   "metadata": {},
   "outputs": [],
   "source": [
    "X_y_train = pd.concat([X_train.reset_index(drop = True),\n",
    "                       y_train.reset_index(drop = True)], axis = 1)\n",
    "count_nondefault, count_default = X_y_train['loan_status'].value_counts()"
   ]
  },
  {
   "cell_type": "code",
   "execution_count": 18,
   "metadata": {},
   "outputs": [
    {
     "name": "stdout",
     "output_type": "stream",
     "text": [
      "1    3877\n",
      "0    3877\n",
      "Name: loan_status, dtype: int64\n"
     ]
    }
   ],
   "source": [
    "# Create data sets for defaults and non-defaults\n",
    "nondefaults = X_y_train[X_y_train['loan_status'] == 0]\n",
    "defaults = X_y_train[X_y_train['loan_status'] == 1]\n",
    "\n",
    "# Undersample the non-defaults\n",
    "nondefaults = nondefaults.sample(count_default)\n",
    "\n",
    "# Concatenate the undersampled nondefaults with defaults\n",
    "X_y_train_under = pd.concat([nondefaults.reset_index(drop = True),\n",
    "                             defaults.reset_index(drop = True)], axis = 0)\n",
    "\n",
    "# Print the value counts for loan status\n",
    "print(X_y_train_under['loan_status'].value_counts())"
   ]
  },
  {
   "cell_type": "code",
   "execution_count": 19,
   "metadata": {},
   "outputs": [],
   "source": [
    "# Create the X and y data sets\n",
    "X2 = X_y_train_under.drop(['loan_status'], axis=1)\n",
    "y2 = X_y_train_under[['loan_status']]\n",
    "\n",
    "# Use test_train_split to create the training and test sets\n",
    "X2_train, X2_test, y2_train, y2_test = train_test_split(X2, y2, test_size=.4, random_state=123)\n"
   ]
  },
  {
   "cell_type": "code",
   "execution_count": 32,
   "metadata": {},
   "outputs": [],
   "source": [
    "# Train a model on the X data with 2 columns\n",
    "clf_gbt = xgb.XGBClassifier().fit(X_train,np.ravel(y_train))\n",
    "clf_gbt2 = xgb.XGBClassifier().fit(X2_train,np.ravel(y2_train))\n",
    "\n",
    "# Predict the loan_status using each model\n",
    "gbt_preds = clf_gbt.predict(X_test)\n",
    "gbt2_preds = clf_gbt2.predict(X_test)\n"
   ]
  },
  {
   "cell_type": "markdown",
   "metadata": {},
   "source": [
    "11. Undersampled tree performance\n",
    "\n",
    "You've undersampled the training set and trained a model on the undersampled set.\n",
    "\n",
    "The performance of the model's predictions not only impact the probability of default on the test set, but also on the scoring of new loan applications as they come in. You also now know that it is even more important that the recall of defaults be high, because a default predicted as non-default is more costly.\n",
    "\n",
    "The next crucial step is to compare the new model's performance to the original model. The original predictions are stored as gbt_preds and the new model's predictions stored as gbt2_preds."
   ]
  },
  {
   "cell_type": "code",
   "execution_count": 33,
   "metadata": {},
   "outputs": [
    {
     "name": "stdout",
     "output_type": "stream",
     "text": [
      "              precision    recall  f1-score   support\n",
      "\n",
      " Non-Default       0.93      0.99      0.96      9198\n",
      "     Default       0.94      0.74      0.83      2586\n",
      "\n",
      "    accuracy                           0.93     11784\n",
      "   macro avg       0.94      0.86      0.89     11784\n",
      "weighted avg       0.93      0.93      0.93     11784\n",
      "\n",
      "              precision    recall  f1-score   support\n",
      "\n",
      " Non-Default       0.95      0.90      0.92      9198\n",
      "     Default       0.70      0.82      0.75      2586\n",
      "\n",
      "    accuracy                           0.88     11784\n",
      "   macro avg       0.82      0.86      0.84     11784\n",
      "weighted avg       0.89      0.88      0.89     11784\n",
      "\n"
     ]
    }
   ],
   "source": [
    "# Print the classification report of the first model\n",
    "target_names = ['Non-Default', 'Default']\n",
    "print(metrics.classification_report(y_test, gbt_preds, target_names=target_names))\n",
    "\n",
    "# Print the classification report of the second model\n",
    "print(metrics.classification_report(y_test, gbt2_preds, target_names=target_names))"
   ]
  },
  {
   "cell_type": "code",
   "execution_count": 35,
   "metadata": {},
   "outputs": [
    {
     "name": "stdout",
     "output_type": "stream",
     "text": [
      "[[9085  113]\n",
      " [ 677 1909]]\n",
      "[[8302  896]\n",
      " [ 477 2109]]\n"
     ]
    }
   ],
   "source": [
    "# Print the confusion matrix for both old and new models\n",
    "print(metrics.confusion_matrix(y_test,gbt_preds))\n",
    "print(metrics.confusion_matrix(y_test,gbt2_preds))"
   ]
  },
  {
   "cell_type": "code",
   "execution_count": 37,
   "metadata": {},
   "outputs": [
    {
     "name": "stdout",
     "output_type": "stream",
     "text": [
      "0.8629602218579747\n",
      "0.8590663813226824\n"
     ]
    }
   ],
   "source": [
    "# Print and compare the AUC scores of the old and new models\n",
    "print(metrics.roc_auc_score(y_test, gbt_preds))\n",
    "print(metrics.roc_auc_score(y_test, gbt2_preds))"
   ]
  },
  {
   "cell_type": "markdown",
   "metadata": {},
   "source": [
    "Here somewhy AUC for balanced trained data model gbt2 is smaller, however recall is higher 0.82 vs 0.74"
   ]
  }
 ],
 "metadata": {
  "kernelspec": {
   "display_name": "Python 3",
   "language": "python",
   "name": "python3"
  },
  "language_info": {
   "codemirror_mode": {
    "name": "ipython",
    "version": 3
   },
   "file_extension": ".py",
   "mimetype": "text/x-python",
   "name": "python",
   "nbconvert_exporter": "python",
   "pygments_lexer": "ipython3",
   "version": "3.8.3"
  }
 },
 "nbformat": 4,
 "nbformat_minor": 4
}
