{
 "cells": [
  {
   "cell_type": "markdown",
   "metadata": {},
   "source": [
    "## 4.Model Evaluation and Implementation"
   ]
  },
  {
   "cell_type": "code",
   "execution_count": 7,
   "metadata": {},
   "outputs": [],
   "source": [
    "# Import pandas as pd\n",
    "import pandas as pd\n",
    "import matplotlib as mtlb\n",
    "import matplotlib.pyplot as plt\n",
    "import numpy as np\n",
    "from sklearn.linear_model import LogisticRegression\n",
    "from sklearn.model_selection import train_test_split\n",
    "import sklearn as skl \n",
    "from sklearn import metrics\n",
    "from sklearn.calibration import calibration_curve\n",
    "import xgboost as xgb"
   ]
  },
  {
   "cell_type": "code",
   "execution_count": 2,
   "metadata": {},
   "outputs": [],
   "source": [
    "# Read in the csv file\n",
    "clean_loan_data = pd.read_csv('clean_loan_data.csv')"
   ]
  },
  {
   "cell_type": "markdown",
   "metadata": {},
   "source": [
    "Creating and training LogisticRegression and XGBoost models"
   ]
  },
  {
   "cell_type": "code",
   "execution_count": 3,
   "metadata": {},
   "outputs": [],
   "source": [
    "# Create two data sets for numeric and non-numeric data\n",
    "cred_num = clean_loan_data.select_dtypes(exclude=['object'])\n",
    "cred_str = clean_loan_data.select_dtypes(include=['object'])\n",
    "\n",
    "# One-hot encode the non-numeric columns\n",
    "cred_str_onehot = pd.get_dummies(cred_str)\n",
    "\n",
    "# Union the one-hot encoded columns to the numeric ones\n",
    "cr_loan_prep = pd.concat([cred_num, cred_str_onehot], axis=1)"
   ]
  },
  {
   "cell_type": "code",
   "execution_count": 4,
   "metadata": {},
   "outputs": [],
   "source": [
    "# Create the X and y data sets\n",
    "X = cr_loan_prep.drop(['loan_status'], axis=1)\n",
    "y = cr_loan_prep[['loan_status']]\n",
    "\n",
    "# Use test_train_split to create the training and test sets\n",
    "X_train, X_test, y_train, y_test = train_test_split(X, y, test_size=.4, random_state=123)"
   ]
  },
  {
   "cell_type": "code",
   "execution_count": 5,
   "metadata": {},
   "outputs": [],
   "source": [
    "X_y_train = pd.concat([X_train.reset_index(drop = True),\n",
    "                       y_train.reset_index(drop = True)], axis = 1)"
   ]
  },
  {
   "cell_type": "code",
   "execution_count": 13,
   "metadata": {},
   "outputs": [],
   "source": [
    "# Train a model on the X data\n",
    "clf_gbt = xgb.XGBClassifier().fit(X_train,np.ravel(y_train))\n",
    "\n",
    "# Predict the loan_status using each model\n",
    "gbt_preds = clf_gbt.predict(X_test)\n",
    "gbt_preds_df=pd.DataFrame(clf_gbt.predict_proba(X_test), columns = ['prob_not_default','prob_default'])"
   ]
  },
  {
   "cell_type": "code",
   "execution_count": 14,
   "metadata": {},
   "outputs": [],
   "source": [
    "# Train the logistic regression model on the training data\n",
    "clf_logistic = LogisticRegression(solver='lbfgs').fit(X_train, np.ravel(y_train))\n",
    "\n",
    "# Create predictions of probability for loan status using test data\n",
    "preds = clf_logistic.predict_proba(X_test)"
   ]
  },
  {
   "cell_type": "code",
   "execution_count": 15,
   "metadata": {},
   "outputs": [],
   "source": [
    "# Create a dataframe for the probabilities of default\n",
    "lr_preds_df = pd.DataFrame(preds[:,1], columns = ['prob_default'])\n",
    "\n",
    "# Reassign loan status based on the threshold\n",
    "lr_preds_df['loan_status'] = lr_preds_df['prob_default'].apply(lambda x: 1 if x > 0.4 else 0)"
   ]
  },
  {
   "cell_type": "code",
   "execution_count": 16,
   "metadata": {},
   "outputs": [
    {
     "name": "stdout",
     "output_type": "stream",
     "text": [
      "              precision    recall  f1-score   support\n",
      "\n",
      " Non-Default       0.86      0.92      0.89      9198\n",
      "     Default       0.62      0.46      0.53      2586\n",
      "\n",
      "    accuracy                           0.82     11784\n",
      "   macro avg       0.74      0.69      0.71     11784\n",
      "weighted avg       0.81      0.82      0.81     11784\n",
      "\n",
      "              precision    recall  f1-score   support\n",
      "\n",
      " Non-Default       0.93      0.99      0.96      9198\n",
      "     Default       0.94      0.74      0.83      2586\n",
      "\n",
      "    accuracy                           0.93     11784\n",
      "   macro avg       0.94      0.86      0.89     11784\n",
      "weighted avg       0.93      0.93      0.93     11784\n",
      "\n"
     ]
    }
   ],
   "source": [
    "# Print the classification report of the first model\n",
    "target_names = ['Non-Default', 'Default']\n",
    "print(metrics.classification_report(y_test, lr_preds_df['loan_status'], target_names=target_names))\n",
    "\n",
    "# Print the classification report of the second model\n",
    "print(metrics.classification_report(y_test, gbt_preds, target_names=target_names))"
   ]
  },
  {
   "cell_type": "code",
   "execution_count": 17,
   "metadata": {},
   "outputs": [
    {
     "name": "stdout",
     "output_type": "stream",
     "text": [
      "0.7643248801355148\n",
      "0.9470307526754782\n"
     ]
    }
   ],
   "source": [
    "# Print and compare the AUC scores of the old and new models\n",
    "print(metrics.roc_auc_score(y_test, lr_preds_df['prob_default']))\n",
    "print(metrics.roc_auc_score(y_test, gbt_preds_df['prob_default']))"
   ]
  },
  {
   "cell_type": "markdown",
   "metadata": {},
   "source": [
    "1. Comparing model reports\n",
    "\n",
    "You've used logistic regression models and gradient boosted trees. It's time to compare these two to see which model will be used to make the final predictions.\n",
    "\n",
    "One of the easiest first steps for comparing different models' ability to predict the probability of default is to look at their metrics from the classification_report(). With this, you can see many different scoring metrics side-by-side for each model. Because the data and models are normally unbalanced with few defaults, focus on the metrics for defaults for now."
   ]
  },
  {
   "cell_type": "code",
   "execution_count": 18,
   "metadata": {},
   "outputs": [
    {
     "name": "stdout",
     "output_type": "stream",
     "text": [
      "[0.88940189 0.53238687]\n",
      "[0.95833333 0.82855903]\n"
     ]
    }
   ],
   "source": [
    "# Print and compare the AUC scores of the old and new models\n",
    "print(metrics.precision_recall_fscore_support(y_test, lr_preds_df['loan_status'])[2])\n",
    "print(metrics.precision_recall_fscore_support(y_test, gbt_preds)[2])\n"
   ]
  },
  {
   "cell_type": "markdown",
   "metadata": {},
   "source": [
    "2. Comparing with ROCs\n",
    "\n",
    "You should use ROC charts and AUC scores to compare the two models. Sometimes, visuals can really help you and potential business users understand the differences between the various models under consideration.\n",
    "\n",
    "With the graph in mind, you will be more equipped to make a decision. The lift is how far the curve is from the random prediction. The AUC is the area between the curve and the random prediction. The model with more lift, and a higher AUC, is the one that's better at making predictions accurately."
   ]
  },
  {
   "cell_type": "code",
   "execution_count": 19,
   "metadata": {},
   "outputs": [
    {
     "data": {
      "image/png": "[encoded data removed]",
      "text/plain": [
       "<Figure size 432x288 with 1 Axes>"
      ]
     },
     "metadata": {
      "needs_background": "light"
     },
     "output_type": "display_data"
    }
   ],
   "source": [
    "# ROC chart components\n",
    "fallout_lr, sensitivity_lr, thresholds_lr = metrics.roc_curve(y_test, lr_preds_df['prob_default'])\n",
    "fallout_gbt, sensitivity_gbt, thresholds_gbt = metrics.roc_curve(y_test, gbt_preds_df['prob_default'])\n",
    "\n",
    "# ROC Chart with both\n",
    "plt.plot(fallout_lr, sensitivity_lr, color = 'blue', label='%s' % 'Logistic Regression')\n",
    "plt.plot(fallout_gbt, sensitivity_gbt, color = 'green', label='%s' % 'GBT')\n",
    "plt.plot([0, 1], [0, 1], linestyle='--', label='%s' % 'Random Prediction')\n",
    "plt.title(\"ROC Chart for LR and GBT on the Probability of Default\")\n",
    "plt.xlabel('Fall-out')\n",
    "plt.ylabel('Sensitivity')\n",
    "plt.legend()\n",
    "plt.show()"
   ]
  },
  {
   "cell_type": "markdown",
   "metadata": {},
   "source": [
    "3. Calibration curves\n",
    "\n",
    "You now know that the gradient boosted tree clf_gbt has the best overall performance. You need to check the calibration of the two models to see how stable the default prediction performance is across probabilities. You can use a chart of each model's calibration to check this by calling the calibration_curve() function.\n",
    "\n",
    "Calibration curves can require many lines of code in python, so you will go through each step slowly to add the different components."
   ]
  },
  {
   "cell_type": "code",
   "execution_count": 20,
   "metadata": {},
   "outputs": [
    {
     "name": "stdout",
     "output_type": "stream",
     "text": [
      "(array([0.14053944, 0.62434964]), array([0., 1.]))\n"
     ]
    }
   ],
   "source": [
    "frac_of_pos_lr, mean_pred_val_lr = calibration_curve(y_test, lr_preds_df['prob_default'],n_bins=5)\n",
    "frac_of_pos_gbt, mean_pred_val_gbt = calibration_curve(y_test, gbt_preds_df['prob_default'],n_bins=5)\n",
    "print(calibration_curve(y_test, lr_preds_df['loan_status'],n_bins=5))\n"
   ]
  },
  {
   "cell_type": "code",
   "execution_count": 21,
   "metadata": {},
   "outputs": [
    {
     "data": {
      "image/png": "[encoded data removed]",
      "text/plain": [
       "<Figure size 432x288 with 1 Axes>"
      ]
     },
     "metadata": {
      "needs_background": "light"
     },
     "output_type": "display_data"
    }
   ],
   "source": [
    "# Add the calibration curve for the gradient boosted tree\n",
    "plt.plot([0, 1], [0, 1], 'k:', label='Perfectly calibrated')    \n",
    "plt.plot(mean_pred_val_lr, frac_of_pos_lr,\n",
    "         's-', label='%s' % 'Logistic Regression')\n",
    "plt.plot(mean_pred_val_gbt, frac_of_pos_gbt,\n",
    "         's-', label='%s' % 'Gradient Boosted tree')\n",
    "plt.ylabel('Fraction of positives')\n",
    "plt.xlabel('Average Predicted Probability')\n",
    "plt.legend()\n",
    "plt.title('Calibration Curve')\n",
    "plt.show()"
   ]
  },
  {
   "cell_type": "markdown",
   "metadata": {},
   "source": [
    "4. Acceptance rates\n",
    "\n",
    "Setting an acceptance rate and calculating the threshold for that rate can be used to set the percentage of new loans you want to accept. For this exercise, assume the test data is a fresh batch of new loans. You will need to use the quantile() function from numpy to calculate the threshold.\n",
    "\n",
    "The threshold should be used to assign new loan_status values. Does the number of defaults and non-defaults in the data change?"
   ]
  },
  {
   "cell_type": "code",
   "execution_count": 23,
   "metadata": {},
   "outputs": [
    {
     "name": "stdout",
     "output_type": "stream",
     "text": [
      "count    11784.000000\n",
      "mean         0.214355\n",
      "std          0.345175\n",
      "min          0.000001\n",
      "25%          0.009491\n",
      "50%          0.042282\n",
      "75%          0.188474\n",
      "max          0.999996\n",
      "Name: prob_default, dtype: float64\n",
      "11784\n"
     ]
    }
   ],
   "source": [
    "# Check the statistics of the probabilities of default\n",
    "print(gbt_preds_df['prob_default'].describe())\n",
    "\n",
    "# Calculate the threshold for a 85% acceptance rate\n",
    "threshold_85 = np.quantile(gbt_preds_df['prob_default'], 0.85)\n",
    "\n",
    "# Apply acceptance rate threshold\n",
    "gbt_preds_df['pred_loan_status'] = gbt_preds_df['prob_default'].apply(lambda x: 1 if x > threshold_85 else 0)\n",
    "\n",
    "# Print the counts of loan status after the threshold\n",
    "print(gbt_preds_df['pred_loan_status'].count())"
   ]
  },
  {
   "cell_type": "markdown",
   "metadata": {},
   "source": [
    "You know how quantile() works to compute a threshold, and you've seen an example of what it does to split the loans into accepted and rejected. What does this threshold look like for the test set, and how can you visualize it?"
   ]
  },
  {
   "cell_type": "code",
   "execution_count": 24,
   "metadata": {},
   "outputs": [
    {
     "data": {
      "image/png": "[encoded data removed]",
      "text/plain": [
       "<Figure size 432x288 with 1 Axes>"
      ]
     },
     "metadata": {
      "needs_background": "light"
     },
     "output_type": "display_data"
    }
   ],
   "source": [
    "# Plot the predicted probabilities of default\n",
    "plt.hist(gbt_preds_df['prob_default'], color = 'blue', bins = 40)\n",
    "\n",
    "# Add a reference line to the plot for the threshold\n",
    "plt.axvline(x = threshold_85, color = 'red')\n",
    "plt.title('XGBoost predicted probabilities of default')\n",
    "plt.show()"
   ]
  },
  {
   "cell_type": "markdown",
   "metadata": {},
   "source": [
    "5. Bad rates\n",
    "\n",
    "With acceptance rate in mind, you can now analyze the bad rate within the accepted loans. This way you will be able to see the percentage of defaults that have been accepted.\n",
    "\n",
    "Think about the impact of the acceptance rate and bad rate. We set an acceptance rate to have fewer defaults in the portfolio because defaults are more costly. Will the bad rate be less than the percentage of defaults in the test data?"
   ]
  },
  {
   "cell_type": "code",
   "execution_count": 25,
   "metadata": {},
   "outputs": [],
   "source": [
    "#add column with true loan status\n",
    "gbt_preds_df=pd.concat([gbt_preds_df.reset_index(drop = True),\n",
    "                       y_test.reset_index(drop = True)], axis = 1)"
   ]
  },
  {
   "cell_type": "code",
   "execution_count": 26,
   "metadata": {},
   "outputs": [
    {
     "name": "stdout",
     "output_type": "stream",
     "text": [
      "0.08306709265175719\n"
     ]
    }
   ],
   "source": [
    "#accepted loans\n",
    "accepted_loans=gbt_preds_df[gbt_preds_df['pred_loan_status']==0]\n",
    "bad_rate=(accepted_loans['loan_status'].sum()/accepted_loans['loan_status'].count())\n",
    "print(bad_rate)"
   ]
  },
  {
   "cell_type": "markdown",
   "metadata": {},
   "source": [
    "6. Acceptance rate impact\n",
    "\n",
    "Now, look at the loan_amnt of each loan to understand the impact on the portfolio for the acceptance rates. You can use cross tables with calculated values, like the average loan amount, of the new set of loans X_test. For this, you will multiply the number of each with an average loan_amnt value.\n",
    "\n",
    "When printing these values, try formatting them as currency so that the numbers look more realistic. After all, credit risk is all about money. This is accomplished with the following code:\n",
    "\n",
    "pd.options.display.float_format = '${:,.2f}'.format"
   ]
  },
  {
   "cell_type": "code",
   "execution_count": 33,
   "metadata": {},
   "outputs": [
    {
     "name": "stdout",
     "output_type": "stream",
     "text": [
      "count   $29,459.00\n",
      "mean     $9,583.60\n",
      "std      $6,314.42\n",
      "min        $500.00\n",
      "25%      $5,000.00\n",
      "50%      $8,000.00\n",
      "75%     $12,250.00\n",
      "max     $35,000.00\n",
      "Name: loan_amnt, dtype: float64\n",
      "pred_loan_status              0              1\n",
      "loan_status                                   \n",
      "0                $88,015,791.00    $134,170.41\n",
      "1                 $7,973,555.98 $16,809,636.04\n"
     ]
    }
   ],
   "source": [
    "# Print the statistics of the loan amount column\n",
    "print(cr_loan_prep['loan_amnt'].describe())\n",
    "\n",
    "# Store the average loan amount\n",
    "avg_loan = np.mean(cr_loan_prep['loan_amnt'])\n",
    "\n",
    "# Set the formatting for currency, and print the cross tab\n",
    "pd.options.display.float_format = '${:,.2f}'.format\n",
    "print(pd.crosstab(gbt_preds_df['loan_status'],\n",
    "                 gbt_preds_df['pred_loan_status']).apply(lambda x: x * avg_loan, axis = 0))"
   ]
  },
  {
   "cell_type": "markdown",
   "metadata": {},
   "source": [
    "7. Making the strategy table\n",
    "\n",
    "Before you implement a strategy, you should first create a strategy table containing all the possible acceptance rates you wish to look at along with their associated bad rates and threshold values. This way, you can begin to see each part of your strategy and how it affects your portfolio.\n",
    "\n",
    "Automatically calculating all of these values only requires a for loop, but requires many lines of python code. Don't worry, most of the code is already there. Remember the calculations for threshold and bad rate."
   ]
  },
  {
   "cell_type": "code",
   "execution_count": 47,
   "metadata": {},
   "outputs": [
    {
     "name": "stdout",
     "output_type": "stream",
     "text": [
      "<class 'pandas.core.frame.DataFrame'>\n",
      "RangeIndex: 11784 entries, 0 to 11783\n",
      "Data columns (total 5 columns):\n",
      "prob_not_default    11784 non-null float32\n",
      "prob_default        11784 non-null float32\n",
      "pred_loan_status    11784 non-null int64\n",
      "loan_status         11784 non-null int64\n",
      "avg_loan            11784 non-null float64\n",
      "dtypes: float32(2), float64(1), int64(2)\n",
      "memory usage: 368.3 KB\n",
      "None\n"
     ]
    }
   ],
   "source": [
    "accept_rates = np.linspace(1,0.05,20)\n",
    "thresholds=[]\n",
    "bad_rates=[]\n",
    "test_pred_df=gbt_preds_df\n",
    "test_pred_df['avg_loan']=avg_loan\n",
    "print(test_pred_df.info())\n",
    "pd.options.display.float_format = '{:,.2f}'.format"
   ]
  },
  {
   "cell_type": "code",
   "execution_count": 48,
   "metadata": {},
   "outputs": [],
   "source": [
    "# Populate the arrays for the strategy table with a for loop\n",
    "#print(test_pred_df.info())\n",
    "for rate in accept_rates:\n",
    "    # Calculate the threshold for the acceptance rate\n",
    "    thresh = np.quantile(gbt_preds_df['prob_default'], rate).round(3)\n",
    "    # Add the threshold value to the list of thresholds\n",
    "    thresholds.append(thresh)\n",
    "    # Reassign the loan_status value using the threshold\n",
    "    test_pred_df['pred_loan_status'] = gbt_preds_df['prob_default'].apply(lambda x: 1 if x > thresh else 0)\n",
    "    # Create a set of accepted loans using this acceptance rate\n",
    "    accepted_loans = test_pred_df[gbt_preds_df['pred_loan_status'] == 0]\n",
    "    # Calculate and append the bad rate using the acceptance rate\n",
    "    bad_rates.append(np.sum((accepted_loans['loan_status']) / len(accepted_loans['loan_status'])).round(3))"
   ]
  },
  {
   "cell_type": "code",
   "execution_count": 49,
   "metadata": {},
   "outputs": [
    {
     "name": "stdout",
     "output_type": "stream",
     "text": [
      "    Acceptance Rate  Threshold  Bad Rate\n",
      "0              1.00       1.00      0.22\n",
      "1              0.95       1.00      0.18\n",
      "2              0.90       0.99      0.13\n",
      "3              0.85       0.85      0.08\n",
      "4              0.80       0.31      0.06\n",
      "5              0.75       0.19      0.05\n",
      "6              0.70       0.13      0.04\n",
      "7              0.65       0.09      0.03\n",
      "8              0.60       0.07      0.03\n",
      "9              0.55       0.05      0.02\n",
      "10             0.50       0.04      0.02\n",
      "11             0.45       0.03      0.02\n",
      "12             0.40       0.03      0.02\n",
      "13             0.35       0.02      0.01\n",
      "14             0.30       0.01      0.01\n",
      "15             0.25       0.01      0.01\n",
      "16             0.20       0.01      0.01\n",
      "17             0.15       0.00      0.00\n",
      "18             0.10       0.00      0.00\n",
      "19             0.05       0.00      0.00\n"
     ]
    }
   ],
   "source": [
    "# Create a data frame of the strategy table\n",
    "strat_df = pd.DataFrame(zip(accept_rates, thresholds, bad_rates),\n",
    "                        columns = ['Acceptance Rate','Threshold','Bad Rate'])\n",
    "\n",
    "# Print the entire table\n",
    "print(strat_df)"
   ]
  },
  {
   "cell_type": "markdown",
   "metadata": {},
   "source": [
    "8. Visualizing the strategy\n",
    "\n",
    "Now you have the extended strategy table strat_df. The table is not so big that it's difficult to analyze, but visuals can help you see the overview all at once.\n",
    "\n",
    "You should check at the distribution of each column with a box plot. If the distribution of Acceptance Rate looks the same as the Bad Rate column, that could be a problem. That means that the model's calibration is likely much worse than you thought.\n",
    "\n",
    "You can also visualize the strategy curve with a line plot. The Acceptance Rate would be the independent variable with the Bad Rate as the dependent variable."
   ]
  },
  {
   "cell_type": "code",
   "execution_count": 50,
   "metadata": {},
   "outputs": [
    {
     "data": {
      "image/png": "[encoded data removed]",
      "text/plain": [
       "<Figure size 432x288 with 1 Axes>"
      ]
     },
     "metadata": {
      "needs_background": "light"
     },
     "output_type": "display_data"
    }
   ],
   "source": [
    "# Visualize the distributions in the strategy table with a boxplot\n",
    "strat_df.boxplot()\n",
    "plt.show()"
   ]
  },
  {
   "cell_type": "code",
   "execution_count": 62,
   "metadata": {},
   "outputs": [
    {
     "name": "stdout",
     "output_type": "stream",
     "text": [
      "<class 'pandas.core.frame.DataFrame'>\n",
      "RangeIndex: 20 entries, 0 to 19\n",
      "Data columns (total 3 columns):\n",
      "Acceptance Rate    20 non-null float64\n",
      "Threshold          20 non-null float64\n",
      "Bad Rate           20 non-null float64\n",
      "dtypes: float64(3)\n",
      "memory usage: 560.0 bytes\n",
      "None\n"
     ]
    },
    {
     "data": {
      "image/png": "[encoded data removed]",
      "text/plain": [
       "<Figure size 432x288 with 1 Axes>"
      ]
     },
     "metadata": {
      "needs_background": "light"
     },
     "output_type": "display_data"
    }
   ],
   "source": [
    "# Plot the strategy curve\n",
    "print(strat_df.info())\n",
    "plt.plot(strat_df['Acceptance Rate'], strat_df['Bad Rate'])\n",
    "plt.xlabel('Acceptance Rate')\n",
    "plt.ylabel('Bad Rate')\n",
    "plt.title('Acceptance and Bad Rates')\n",
    "plt.grid()\n",
    "plt.show()"
   ]
  },
  {
   "cell_type": "code",
   "execution_count": null,
   "metadata": {},
   "outputs": [],
   "source": []
  },
  {
   "cell_type": "markdown",
   "metadata": {},
   "source": [
    "9. Estimated value profiling\n",
    "\n",
    "The strategy table, strat_df, can be used to maximize the estimated portfolio value and minimize expected loss. Extending this table and creating some plots can be very helpful to this end."
   ]
  },
  {
   "cell_type": "code",
   "execution_count": null,
   "metadata": {},
   "outputs": [],
   "source": [
    "# Create a line plot of estimated value\n",
    "plt.plot(strat_df['Acceptance Rate'],strat_df['Estimated Value'])\n",
    "plt.title('Estimated Value by Acceptance Rate')\n",
    "plt.xlabel('Acceptance Rate')\n",
    "plt.ylabel('Estimated Value')\n",
    "plt.axes().yaxis.grid()\n",
    "plt.show()"
   ]
  }
 ],
 "metadata": {
  "kernelspec": {
   "display_name": "Python 3",
   "language": "python",
   "name": "python3"
  },
  "language_info": {
   "codemirror_mode": {
    "name": "ipython",
    "version": 3
   },
   "file_extension": ".py",
   "mimetype": "text/x-python",
   "name": "python",
   "nbconvert_exporter": "python",
   "pygments_lexer": "ipython3",
   "version": "3.7.8"
  }
 },
 "nbformat": 4,
 "nbformat_minor": 4
}
